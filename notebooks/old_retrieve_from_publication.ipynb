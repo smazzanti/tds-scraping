{
 "cells": [
  {
   "cell_type": "markdown",
   "metadata": {},
   "source": [
    "# Import"
   ]
  },
  {
   "cell_type": "code",
   "execution_count": 2,
   "metadata": {},
   "outputs": [],
   "source": [
    "import os\n",
    "import sys\n",
    "from datetime import datetime, timedelta\n",
    "import time\n",
    "import numpy as np\n",
    "import pandas as pd\n",
    "from selenium import webdriver\n",
    "from selenium.webdriver.common.keys import Keys\n",
    "from selenium.common.exceptions import StaleElementReferenceException, NoSuchElementException\n",
    "import re\n",
    "import string\n",
    "from tqdm import tqdm"
   ]
  },
  {
   "cell_type": "markdown",
   "metadata": {},
   "source": [
    "# Constants"
   ]
  },
  {
   "cell_type": "code",
   "execution_count": 7,
   "metadata": {},
   "outputs": [],
   "source": [
    "CHROME_DRIVER_PATH = \"c:\\\\Users\\\\smazzanti\\\\GitProjects\\\\personal\\\\tds-crawler\\\\chromedriver\\\\chromedriver.exe\""
   ]
  },
  {
   "cell_type": "markdown",
   "metadata": {},
   "source": [
    "# Utils"
   ]
  },
  {
   "cell_type": "code",
   "execution_count": 8,
   "metadata": {},
   "outputs": [],
   "source": [
    "def get_driver(executable_path, silent=True):\n",
    "    options = webdriver.chrome.options.Options()\n",
    "    options.headless = silent\n",
    "    driver = webdriver.Chrome(executable_path=executable_path, chrome_options=options)\n",
    "    return driver\n",
    "\n",
    "def clean_url(user_url):\n",
    "    return user_url.split('?source=')[0].rstrip(\"/\")"
   ]
  },
  {
   "cell_type": "markdown",
   "metadata": {},
   "source": [
    "# Retrieve info"
   ]
  },
  {
   "cell_type": "code",
   "execution_count": 12,
   "metadata": {},
   "outputs": [],
   "source": [
    "# retrieve main info of all articles published by towards data science between start_date and end_date (included)\n",
    "start_date = datetime(2022, 10, 21).date()\n",
    "end_date = datetime(2022, 10, 22).date()\n",
    "articles_info = list()"
   ]
  },
  {
   "cell_type": "code",
   "execution_count": 13,
   "metadata": {},
   "outputs": [
    {
     "name": "stderr",
     "output_type": "stream",
     "text": [
      "C:\\Users\\smazzanti\\PycharmProjects\\mrmr\\venv\\lib\\site-packages\\ipykernel_launcher.py:4: DeprecationWarning: use options instead of chrome_options\n",
      "  after removing the cwd from sys.path.\n",
      "100%|████████████████████████████████████████████████████████████████████████████████████| 2/2 [00:00<00:00,  3.70it/s]\n"
     ]
    }
   ],
   "source": [
    "driver = get_driver(executable_path=CHROME_DRIVER_PATH)\n",
    "\n",
    "article_dates = [start_date + timedelta(days=days) for days in range((end_date - start_date).days + 1)]\n",
    "\n",
    "for article_date in tqdm(article_dates):\n",
    "    archive_url = \"https://towardsdatascience.com/archive/\" + datetime.strftime(article_date, \"%Y/%m/%d\")\n",
    "    driver.get(archive_url)\n",
    "\n",
    "    if driver.current_url != archive_url: # when a page is missing, the driver is sent to the month page\n",
    "        continue\n",
    "\n",
    "    articles = driver.find_elements_by_xpath(\"/html/body/div[1]/div[2]/div/div[3]/div[1]/div[2]/div[.]\")\n",
    "\n",
    "    for article in articles:\n",
    "        try:\n",
    "            article_title = article.find_element_by_tag_name(\"h3\").text\n",
    "        except:\n",
    "            article_title = article.find_element_by_tag_name(\"h2\").text\n",
    "        article_url = clean_url(article.find_element_by_xpath(\"./div/div/div[2]/a\").get_attribute(\"href\"))         \n",
    "        user = article.find_element_by_xpath(\"./div/div/div[1]/div/div/div[2]/a[1]\")\n",
    "        user_url = clean_url(user.get_attribute(\"href\"))\n",
    "        user_name = user.text\n",
    "        reading_time = int(article.find_element_by_class_name(\"readingTime\").get_attribute(\"title\").split(\" \")[0])\n",
    "        n_claps = int(eval(article.find_element_by_xpath(\"./div/div/div[4]/div[1]/div/span\").text.zfill(1).replace(\"K\", \"*1000\")))\n",
    "\n",
    "        articles_info.append({\n",
    "            \"ref_date\": datetime.now().date(),\n",
    "            \"article_url\": article_url,\n",
    "            \"article_title\": article_title,\n",
    "            \"article_date\": article_date,\n",
    "            \"user_url\": user_url,\n",
    "            \"user_name\": user_name,\n",
    "            \"reading_time\": reading_time,\n",
    "            \"n_claps\": n_claps\n",
    "        })\n",
    "\n",
    "driver.quit()"
   ]
  },
  {
   "cell_type": "code",
   "execution_count": 14,
   "metadata": {},
   "outputs": [
    {
     "data": {
      "text/plain": [
       "[]"
      ]
     },
     "execution_count": 14,
     "metadata": {},
     "output_type": "execute_result"
    }
   ],
   "source": [
    "articles_info"
   ]
  },
  {
   "cell_type": "code",
   "execution_count": 26,
   "metadata": {},
   "outputs": [
    {
     "data": {
      "text/plain": [
       "(6635, 8)"
      ]
     },
     "execution_count": 26,
     "metadata": {},
     "output_type": "execute_result"
    }
   ],
   "source": [
    "df_articles_info = pd.DataFrame(articles_info)\n",
    "df_articles_info.shape"
   ]
  },
  {
   "cell_type": "code",
   "execution_count": 31,
   "metadata": {},
   "outputs": [
    {
     "data": {
      "text/plain": [
       "(6617, 8)"
      ]
     },
     "execution_count": 31,
     "metadata": {},
     "output_type": "execute_result"
    }
   ],
   "source": [
    "df_articles_info = df_articles_info.drop_duplicates()\n",
    "df_articles_info.shape"
   ]
  },
  {
   "cell_type": "code",
   "execution_count": 32,
   "metadata": {},
   "outputs": [
    {
     "data": {
      "text/plain": [
       "ref_date            1\n",
       "article_url      6617\n",
       "article_title    6588\n",
       "article_date      363\n",
       "user_url         1883\n",
       "user_name        1883\n",
       "reading_time       40\n",
       "n_claps           626\n",
       "dtype: int64"
      ]
     },
     "execution_count": 32,
     "metadata": {},
     "output_type": "execute_result"
    }
   ],
   "source": [
    "df_articles_info.nunique()"
   ]
  },
  {
   "cell_type": "code",
   "execution_count": 33,
   "metadata": {},
   "outputs": [
    {
     "data": {
      "text/plain": [
       "ref_date         0\n",
       "article_url      0\n",
       "article_title    0\n",
       "article_date     0\n",
       "user_url         0\n",
       "user_name        0\n",
       "reading_time     0\n",
       "n_claps          0\n",
       "dtype: int64"
      ]
     },
     "execution_count": 33,
     "metadata": {},
     "output_type": "execute_result"
    }
   ],
   "source": [
    "df_articles_info.isna().sum()"
   ]
  },
  {
   "cell_type": "code",
   "execution_count": 34,
   "metadata": {},
   "outputs": [],
   "source": [
    "df_articles_info.to_csv(\"articles_20230103.csv\", sep ='\\t', index=False)"
   ]
  },
  {
   "cell_type": "code",
   "execution_count": 35,
   "metadata": {},
   "outputs": [
    {
     "data": {
      "text/plain": [
       "count    6617.000000\n",
       "mean      129.815778\n",
       "std       190.300148\n",
       "min         0.000000\n",
       "25%        31.000000\n",
       "50%        75.000000\n",
       "75%       155.000000\n",
       "max      3100.000000\n",
       "Name: n_claps, dtype: float64"
      ]
     },
     "execution_count": 35,
     "metadata": {},
     "output_type": "execute_result"
    }
   ],
   "source": [
    "df_articles_info[\"n_claps\"].describe()"
   ]
  },
  {
   "cell_type": "code",
   "execution_count": null,
   "metadata": {},
   "outputs": [],
   "source": []
  }
 ],
 "metadata": {
  "kernelspec": {
   "display_name": "dev",
   "language": "python",
   "name": "dev"
  },
  "language_info": {
   "codemirror_mode": {
    "name": "ipython",
    "version": 3
   },
   "file_extension": ".py",
   "mimetype": "text/x-python",
   "name": "python",
   "nbconvert_exporter": "python",
   "pygments_lexer": "ipython3",
   "version": "3.6.10"
  }
 },
 "nbformat": 4,
 "nbformat_minor": 2
}
